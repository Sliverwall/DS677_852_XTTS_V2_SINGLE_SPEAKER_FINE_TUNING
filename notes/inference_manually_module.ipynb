{
 "cells": [
  {
   "cell_type": "markdown",
   "id": "95a76157",
   "metadata": {},
   "source": [
    "# Inference_manually_module\n",
    "\n",
    "- https://docs.coqui.ai/en/latest/models/xtts.html\n",
    "- rename ~1G .pth to speaker_xtts.pth. This file is the speaker-embedding vector for the fine-tuned voice. XTTS uses this vector to adjust model to a specific voice.\n",
    "- rename one of the ~5.7G models to model.pth\n",
    "- No need to set paths directly to the model and speaker embeddings. Just set the dir. If the vocab.json is in the same dir, no need to use vocab_path."
   ]
  },
  {
   "cell_type": "code",
   "execution_count": 1,
   "id": "ea79abdf",
   "metadata": {},
   "outputs": [
    {
     "name": "stderr",
     "output_type": "stream",
     "text": [
      "C:\\Users\\12017\\Desktop\\NJIT\\DS677_852_Project\\src\\venv\\lib\\site-packages\\tqdm\\auto.py:21: TqdmWarning: IProgress not found. Please update jupyter and ipywidgets. See https://ipywidgets.readthedocs.io/en/stable/user_install.html\n",
      "  from .autonotebook import tqdm as notebook_tqdm\n"
     ]
    }
   ],
   "source": [
    "from TTS.tts.configs.xtts_config import XttsConfig\n",
    "from TTS.tts.models.xtts import Xtts\n",
    "import torch\n",
    "import torchaudio\n",
    "import os\n",
    "import re"
   ]
  },
  {
   "cell_type": "code",
   "execution_count": 2,
   "id": "5103d1f5",
   "metadata": {},
   "outputs": [],
   "source": [
    "\n",
    "def genAudioManual(text: str,checkpoint_dir: str,vocab_path: str, reference_wav,\n",
    "                   output_path: str,\n",
    "                   model=None,\n",
    "                   cfg=None,\n",
    "                   split_sentences:bool=True,\n",
    "                   load_model_each_time:bool=False,\n",
    "                   device: str = \"cuda:0\",temperature: float = 0.9,\n",
    ") -> str:\n",
    "    \n",
    "    ### Follow docs page for inference without the TTS wrapper.\n",
    "    \n",
    "    \n",
    "    if model is None or load_model_each_time:\n",
    "        # Load the config file in. \n",
    "        print(\"Loading model...\")\n",
    "        cfg = XttsConfig()\n",
    "        cfg.load_json(os.path.join(checkpoint_dir, \"config.json\"))\n",
    "\n",
    "        # Init model using the config. No TTS wrapper, do as done in the xtts_demo.py\n",
    "        model = Xtts.init_from_config(cfg)\n",
    "\n",
    "        # Load from checkpoint. Here is where the model gets loaded in using the base model/speaker embeedings learned\n",
    "        model.load_checkpoint(\n",
    "            cfg,\n",
    "            checkpoint_dir=checkpoint_dir,\n",
    "            vocab_path=vocab_path,\n",
    "            eval=True,\n",
    "            strict=False,\n",
    "            use_deepspeed=False, # Need Deepspeed for this. Difficult on Windows...\n",
    "        )\n",
    "\n",
    "        # Set to eval\n",
    "        model.to(device).eval()\n",
    "\n",
    "    #\n",
    "    print(\"Compute speaker latents...\")\n",
    "    \n",
    "    # This is from tortoise.py. Notes from original file:\n",
    "    '''\n",
    "    Transforms one or more voice_samples into a tuple (autoregressive_conditioning_latent, diffusion_conditioning_latent).\n",
    "    These are expressive learned latents that encode aspects of the provided clips like voice, intonation, and acoustic\n",
    "    properties.\n",
    "    '''\n",
    "    gpt_cond_latent, speaker_embedding = model.get_conditioning_latents(\n",
    "        audio_path=reference_wav,\n",
    "        gpt_cond_len=cfg.gpt_cond_len,\n",
    "        gpt_cond_chunk_len=cfg.gpt_cond_chunk_len,\n",
    "        max_ref_length=cfg.max_ref_len,\n",
    "    )\n",
    "    \n",
    "    if split_sentences:\n",
    "        # Break text into distinct sentences\n",
    "        sentences = re.split(r'(?<=[.!?]) +', text.strip())\n",
    "    else:\n",
    "        sentences = [text]\n",
    "\n",
    "    segments = []\n",
    "    # Loop for through sentence. Do inference one at at time\n",
    "    for sentence in sentences:\n",
    "        print(f\"Generating audio for: {sentence}\")\n",
    "\n",
    "        out = model.inference(\n",
    "            text=sentence,\n",
    "            language=\"en\",\n",
    "            gpt_cond_latent=gpt_cond_latent,\n",
    "            speaker_embedding=speaker_embedding,\n",
    "            temperature=temperature,\n",
    "            speed=1,\n",
    "            length_penalty=cfg.length_penalty,\n",
    "            repetition_penalty=cfg.repetition_penalty,\n",
    "            top_k=cfg.top_k,\n",
    "            top_p=cfg.top_p,\n",
    "        )\n",
    "        \n",
    "        # Create wav tensor then add to segements list\n",
    "        wav_tensor = torch.tensor(out[\"wav\"]).unsqueeze(0)  # shape: (1, samples)\n",
    "        segments.append(wav_tensor)\n",
    "\n",
    "\n",
    "    # Convert the output in wav format, set to a tensor so torchaudio can be used.\n",
    "    # Concatenate all wav tensors along the time axis (dim=1)\n",
    "    finalAudio = torch.cat(segments, dim=1)\n",
    "    \n",
    "    torchaudio.save(output_path, finalAudio, sample_rate=cfg.audio.output_sample_rate)\n",
    "    \n",
    "    print(f\"Output saved to {output_path}\")\n",
    "    # Return output path\n",
    "    return model, cfg"
   ]
  },
  {
   "cell_type": "code",
   "execution_count": 12,
   "id": "931dc354",
   "metadata": {
    "scrolled": true
   },
   "outputs": [
    {
     "name": "stdout",
     "output_type": "stream",
     "text": [
      "Loading model...\n",
      "Compute speaker latents...\n",
      "Generating audio for: First we need to set file path for each of the needed components.\n",
      "Output saved to output/presentation_clips/46.wav\n"
     ]
    }
   ],
   "source": [
    "\n",
    "\n",
    "\n",
    "vocab_path = \"XTTS-files/vocab.json\"\n",
    "\n",
    "model = \"xttsv2_finetune_20250504_1250-May-04-2025_12+50PM-ca1939c\"\n",
    "\n",
    "checkpoint_dir = f\"training_outputs/{model}\"\n",
    "\n",
    "\n",
    "DATASET = \"noramlized_personal_voice\"\n",
    "speaker_ref_1 = \"datasets/noramlized_personal_voice/wavs/chunk_0016.wav\"\n",
    "speaker_ref_2 = \"output/speaker_reference_01.wav\"\n",
    "speaker_ref = speaker_ref_1\n",
    "text = '''\n",
    "First we need to set file path for each of the needed components.\n",
    "   '''\n",
    "index = 46\n",
    "sentences = re.split(r'(?<=[.!?]) +', text.strip())\n",
    "\n",
    "model = None\n",
    "cfg = None\n",
    "for i, sentence in enumerate(sentences):\n",
    "    \n",
    "    if index:\n",
    "        label = index\n",
    "    else:\n",
    "        label = i\n",
    "    output_path = f\"output/presentation_clips/{label}.wav\"\n",
    "    # Example call:\n",
    "    model, cfg = genAudioManual(\n",
    "        text=sentence,\n",
    "        checkpoint_dir=checkpoint_dir,\n",
    "        vocab_path=vocab_path,\n",
    "        reference_wav=[speaker_ref],\n",
    "        output_path=output_path,\n",
    "        model=model,\n",
    "        cfg=cfg,\n",
    "        split_sentences=False\n",
    "    )"
   ]
  },
  {
   "cell_type": "code",
   "execution_count": null,
   "id": "589bab7c",
   "metadata": {},
   "outputs": [],
   "source": []
  },
  {
   "cell_type": "markdown",
   "id": "a9283cae",
   "metadata": {},
   "source": [
   ]
  }
 ],
 "metadata": {
  "kernelspec": {
   "display_name": "xtts_project_venv",
   "language": "python",
   "name": "xtts_project_venv"
  },
  "language_info": {
   "codemirror_mode": {
    "name": "ipython",
    "version": 3
   },
   "file_extension": ".py",
   "mimetype": "text/x-python",
   "name": "python",
   "nbconvert_exporter": "python",
   "pygments_lexer": "ipython3",
   "version": "3.10.11"
  }
 },
 "nbformat": 4,
 "nbformat_minor": 5
}
