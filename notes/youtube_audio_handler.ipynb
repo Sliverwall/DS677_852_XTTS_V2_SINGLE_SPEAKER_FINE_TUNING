{
 "cells": [
  {
   "cell_type": "markdown",
   "id": "ce8aa72b",
   "metadata": {},
   "source": [
    "# youtube_audio_handler\n",
    "\n",
    "- Script that handles geting .wav audio files from a given youtube link"
   ]
  },
  {
   "cell_type": "code",
   "execution_count": 3,
   "id": "ba3ebe76",
   "metadata": {},
   "outputs": [],
   "source": [
    "'''Requires yt-dlp installed: pip install yt-dlp'''\n",
    "import subprocess"
   ]
  },
  {
   "cell_type": "code",
   "execution_count": 4,
   "id": "9a9525ca",
   "metadata": {},
   "outputs": [],
   "source": [
    "'''Provide link to youtube video with audio to extract'''\n",
    "\n",
    "youtubeURL = \"https://www.youtube.com/watch?v=BQ79Fi6-NKc\"\n",
    "\n",
    "outputPath = \"audio/%(title)s.%(ext)s\" # Set output file to inherit video title"
   ]
  },
  {
   "cell_type": "code",
   "execution_count": null,
   "id": "6fc22fa6",
   "metadata": {},
   "outputs": [],
   "source": [
    "'''Produce complete wav output from youtube video'''\n",
    "subprocess.run([\n",
    "    \"yt-dlp\",\n",
    "    \"-f\", \"bestaudio\",\n",
    "    \"--extract-audio\",\n",
    "    \"--audio-format\", \"wav\", # convert to wav as this is XTTS prefered format\n",
    "    \"-o\", outputPath,\n",
    "    youtubeURL\n",
    "])"
   ]
  },
  {
   "cell_type": "code",
   "execution_count": null,
   "id": "73789f77",
   "metadata": {},
   "outputs": [],
   "source": []
  }
 ],
 "metadata": {
  "kernelspec": {
   "display_name": "Python 3 (ipykernel)",
   "language": "python",
   "name": "python3"
  },
  "language_info": {
   "codemirror_mode": {
    "name": "ipython",
    "version": 3
   },
   "file_extension": ".py",
   "mimetype": "text/x-python",
   "name": "python",
   "nbconvert_exporter": "python",
   "pygments_lexer": "ipython3",
   "version": "3.9.13"
  }
 },
 "nbformat": 4,
 "nbformat_minor": 5
}
