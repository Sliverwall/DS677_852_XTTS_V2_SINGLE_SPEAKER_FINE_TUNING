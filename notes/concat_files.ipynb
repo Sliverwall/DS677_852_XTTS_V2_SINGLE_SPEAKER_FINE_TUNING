{
 "cells": [
  {
   "cell_type": "code",
   "execution_count": 17,
   "id": "e263c7ec",
   "metadata": {},
   "outputs": [
    {
     "name": "stdout",
     "output_type": "stream",
     "text": [
      "Combined audio saved to: output/concatenated_output.wav\n"
     ]
    }
   ],
   "source": [
    "from pydub import AudioSegment\n",
    "import os\n",
    "\n",
    "# Set the path to the folder containing WAV files\n",
    "folder_path = \"output/presentation_clips\"\n",
    "output_path = \"output/concatenated_output.wav\"\n",
    "\n",
    "# Initialize an empty AudioSegment\n",
    "combined = AudioSegment.empty()\n",
    "\n",
    "# Get all wav files\n",
    "wav_files = []\n",
    "for f in os.listdir(folder_path):\n",
    "    name, ext = os.path.splitext(f)\n",
    "    if ext.lower() == \".wav\" and name.isdigit():\n",
    "        wav_files.append((int(name), f))\n",
    "\n",
    "# Sort by numeric value\n",
    "wav_files.sort()\n",
    "\n",
    "# Loop through all .wav files and concatenate\n",
    "for _, filename in wav_files:\n",
    "    file_path = os.path.join(folder_path, filename)\n",
    "    audio = AudioSegment.from_wav(file_path)\n",
    "    combined += audio\n",
    "\n",
    "# Export the combined audio\n",
    "combined.export(output_path, format=\"wav\")\n",
    "print(f\"Combined audio saved to: {output_path}\")"
   ]
  }
 ],
 "metadata": {
  "kernelspec": {
   "display_name": "xtts_project_venv",
   "language": "python",
   "name": "xtts_project_venv"
  },
  "language_info": {
   "codemirror_mode": {
    "name": "ipython",
    "version": 3
   },
   "file_extension": ".py",
   "mimetype": "text/x-python",
   "name": "python",
   "nbconvert_exporter": "python",
   "pygments_lexer": "ipython3",
   "version": "3.10.11"
  }
 },
 "nbformat": 4,
 "nbformat_minor": 5
}
